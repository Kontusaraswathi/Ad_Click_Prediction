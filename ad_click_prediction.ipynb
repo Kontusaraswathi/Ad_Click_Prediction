{
 "cells": [
  {
   "cell_type": "code",
   "execution_count": 1,
   "id": "a5284915-8552-4d39-8984-06dc1152cb97",
   "metadata": {},
   "outputs": [
    {
     "data": {
      "text/plain": [
       "Index(['id', 'full_name', 'age', 'gender', 'device_type', 'ad_position',\n",
       "       'browsing_history', 'time_of_day', 'click'],\n",
       "      dtype='object')"
      ]
     },
     "execution_count": 1,
     "metadata": {},
     "output_type": "execute_result"
    }
   ],
   "source": [
    "import pandas as pd\n",
    "df=pd.read_csv(\"ad_click_dataset.csv\")\n",
    "df.columns"
   ]
  },
  {
   "cell_type": "code",
   "execution_count": 2,
   "id": "a4155f69-f9aa-4680-b84e-611ca7cac057",
   "metadata": {},
   "outputs": [
    {
     "data": {
      "text/plain": [
       "1    6500\n",
       "0    3500\n",
       "Name: click, dtype: int64"
      ]
     },
     "execution_count": 2,
     "metadata": {},
     "output_type": "execute_result"
    }
   ],
   "source": [
    "df[\"click\"].value_counts()"
   ]
  },
  {
   "cell_type": "code",
   "execution_count": 4,
   "id": "4bbf55f7-8dd9-4586-9949-ebfe09a79884",
   "metadata": {},
   "outputs": [
    {
     "data": {
      "text/plain": [
       "array([670, 'User670', 22.0, nan, 'Desktop', 'Top', 'Shopping',\n",
       "       'Afternoon', 1], dtype=object)"
      ]
     },
     "execution_count": 4,
     "metadata": {},
     "output_type": "execute_result"
    }
   ],
   "source": [
    "df.values[0]"
   ]
  },
  {
   "cell_type": "code",
   "execution_count": 7,
   "id": "b1b3e2d9-51a7-486d-abdd-aaad9daa1d5f",
   "metadata": {},
   "outputs": [],
   "source": [
    "x=df.drop(columns=[\"id\",\"time_of_day\",\"click\"])\n",
    "y=df[\"click\"]"
   ]
  },
  {
   "cell_type": "code",
   "execution_count": 13,
   "id": "f8c21493-16d7-43b6-977b-8f98af5a83a2",
   "metadata": {},
   "outputs": [
    {
     "data": {
      "text/plain": [
       "id                     0\n",
       "full_name              0\n",
       "age                 4766\n",
       "gender              4693\n",
       "device_type         2000\n",
       "ad_position         2000\n",
       "browsing_history    4782\n",
       "time_of_day         2000\n",
       "click                  0\n",
       "dtype: int64"
      ]
     },
     "execution_count": 13,
     "metadata": {},
     "output_type": "execute_result"
    }
   ],
   "source": [
    "df.isnull().sum()"
   ]
  },
  {
   "cell_type": "code",
   "execution_count": 20,
   "id": "7a85b0fb-6db0-40d2-8eb2-41665b921a1d",
   "metadata": {},
   "outputs": [],
   "source": [
    "x[\"age\"]=x[\"age\"].fillna(x[\"age\"].mean())\n",
    "x[\"gender\"]=x[\"gender\"].fillna(x[\"gender\"].mean())\n",
    "x[\"device_type\"]=x[\"device_type\"].fillna(x[\"device_type\"].mean())\n",
    "x[\"ad_position\"]=x[\"ad_position\"].fillna(x[\"ad_position\"].mean())\n",
    "x[\"browsing_history\"]=x[\"browsing_history\"].fillna(x[\"browsing_history\"].mean())\n"
   ]
  },
  {
   "cell_type": "code",
   "execution_count": 21,
   "id": "d16b876d-d83d-45a2-b4d5-afe72e04b43f",
   "metadata": {},
   "outputs": [],
   "source": [
    "label_encoders={}\n",
    "from sklearn.preprocessing import LabelEncoder\n",
    "for col in [\"full_name\",\"gender\",\"device_type\",\"ad_position\",\"browsing_history\"]:\n",
    "    le=LabelEncoder()\n",
    "    x[col]=le.fit_transform(x[col])\n",
    "    label_encoders[col]=le"
   ]
  },
  {
   "cell_type": "code",
   "execution_count": 23,
   "id": "bb86f567-b35c-4c05-9907-5b1b61d38fb7",
   "metadata": {},
   "outputs": [
    {
     "name": "stdout",
     "output_type": "stream",
     "text": [
      "              precision    recall  f1-score   support\n",
      "\n",
      "           0       0.39      0.54      0.45       712\n",
      "           1       0.67      0.53      0.59      1288\n",
      "\n",
      "    accuracy                           0.53      2000\n",
      "   macro avg       0.53      0.53      0.52      2000\n",
      "weighted avg       0.57      0.53      0.54      2000\n",
      "\n"
     ]
    }
   ],
   "source": [
    "from sklearn.model_selection import train_test_split\n",
    "from sklearn.linear_model import LogisticRegression\n",
    "from sklearn.metrics import classification_report\n",
    "\n",
    "x_train,x_test,y_train,y_test=train_test_split(x,y,test_size=0.2)\n",
    "model=LogisticRegression(max_iter=1000,class_weight=\"balanced\")\n",
    "model.fit(x_train,y_train)\n",
    "pred=model.predict(x_test)\n",
    "print(classification_report(y_test,pred))"
   ]
  },
  {
   "cell_type": "code",
   "execution_count": null,
   "id": "83a5d81d-0e49-4d43-9c4c-6555599472a0",
   "metadata": {},
   "outputs": [],
   "source": []
  },
  {
   "cell_type": "code",
   "execution_count": null,
   "id": "ed45ea52-1e05-4ec1-bca8-189af8b1a5b1",
   "metadata": {},
   "outputs": [],
   "source": []
  },
  {
   "cell_type": "code",
   "execution_count": null,
   "id": "49e0a576-86fd-4817-ae57-be2c06fa80ba",
   "metadata": {},
   "outputs": [],
   "source": []
  },
  {
   "cell_type": "code",
   "execution_count": null,
   "id": "f41f0591-e4bd-410e-a92a-b0edbb795e3f",
   "metadata": {},
   "outputs": [],
   "source": []
  },
  {
   "cell_type": "code",
   "execution_count": null,
   "id": "7560eee4-cf57-47bd-b5b9-c4c95148e46f",
   "metadata": {},
   "outputs": [],
   "source": []
  },
  {
   "cell_type": "code",
   "execution_count": null,
   "id": "0ac27758-7f1c-4365-806a-3e17ea3dc1ce",
   "metadata": {},
   "outputs": [],
   "source": []
  }
 ],
 "metadata": {
  "kernelspec": {
   "display_name": "Python 3 (ipykernel)",
   "language": "python",
   "name": "python3"
  },
  "language_info": {
   "codemirror_mode": {
    "name": "ipython",
    "version": 3
   },
   "file_extension": ".py",
   "mimetype": "text/x-python",
   "name": "python",
   "nbconvert_exporter": "python",
   "pygments_lexer": "ipython3",
   "version": "3.11.9"
  }
 },
 "nbformat": 4,
 "nbformat_minor": 5
}
